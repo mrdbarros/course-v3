{
 "cells": [
  {
   "cell_type": "code",
   "execution_count": 1,
   "metadata": {},
   "outputs": [],
   "source": [
    "%reload_ext autoreload\n",
    "%autoreload 2"
   ]
  },
  {
   "cell_type": "code",
   "execution_count": 2,
   "metadata": {},
   "outputs": [],
   "source": [
    "from fastai.tabular import *"
   ]
  },
  {
   "cell_type": "markdown",
   "metadata": {},
   "source": [
    "# Rossmann"
   ]
  },
  {
   "cell_type": "markdown",
   "metadata": {},
   "source": [
    "## Data preparation"
   ]
  },
  {
   "cell_type": "markdown",
   "metadata": {},
   "source": [
    "To create the feature-engineered train_clean and test_clean from the Kaggle competition data, run `rossman_data_clean.ipynb`. One important step that deals with time series is this:\n",
    "\n",
    "```python\n",
    "add_datepart(train, \"Date\", drop=False)\n",
    "add_datepart(test, \"Date\", drop=False)\n",
    "```"
   ]
  },
  {
   "cell_type": "code",
   "execution_count": 3,
   "metadata": {},
   "outputs": [],
   "source": [
    "path = Config().data_path()/'EURUSD'\n",
    "train_df = pd.read_pickle(path/'train_clean')"
   ]
  },
  {
   "cell_type": "code",
   "execution_count": 4,
   "metadata": {},
   "outputs": [
    {
     "data": {
      "text/html": [
       "<div>\n",
       "<style scoped>\n",
       "    .dataframe tbody tr th:only-of-type {\n",
       "        vertical-align: middle;\n",
       "    }\n",
       "\n",
       "    .dataframe tbody tr th {\n",
       "        vertical-align: top;\n",
       "    }\n",
       "\n",
       "    .dataframe thead th {\n",
       "        text-align: right;\n",
       "    }\n",
       "</style>\n",
       "<table border=\"1\" class=\"dataframe\">\n",
       "  <thead>\n",
       "    <tr style=\"text-align: right;\">\n",
       "      <th></th>\n",
       "      <th>0</th>\n",
       "      <th>1</th>\n",
       "      <th>2</th>\n",
       "      <th>3</th>\n",
       "      <th>4</th>\n",
       "    </tr>\n",
       "  </thead>\n",
       "  <tbody>\n",
       "    <tr>\n",
       "      <th>Timestamp</th>\n",
       "      <td>2018-01-01 17:00:00</td>\n",
       "      <td>2018-01-01 17:01:00</td>\n",
       "      <td>2018-01-01 17:02:00</td>\n",
       "      <td>2018-01-01 17:03:00</td>\n",
       "      <td>2018-01-01 17:04:00</td>\n",
       "    </tr>\n",
       "    <tr>\n",
       "      <th>Open</th>\n",
       "      <td>1.20037</td>\n",
       "      <td>1.20083</td>\n",
       "      <td>1.20035</td>\n",
       "      <td>1.20041</td>\n",
       "      <td>1.20049</td>\n",
       "    </tr>\n",
       "    <tr>\n",
       "      <th>High</th>\n",
       "      <td>1.201</td>\n",
       "      <td>1.20095</td>\n",
       "      <td>1.20043</td>\n",
       "      <td>1.2005</td>\n",
       "      <td>1.20049</td>\n",
       "    </tr>\n",
       "    <tr>\n",
       "      <th>Low</th>\n",
       "      <td>1.20037</td>\n",
       "      <td>1.20017</td>\n",
       "      <td>1.20035</td>\n",
       "      <td>1.20031</td>\n",
       "      <td>1.20046</td>\n",
       "    </tr>\n",
       "    <tr>\n",
       "      <th>Close</th>\n",
       "      <td>1.201</td>\n",
       "      <td>1.2003</td>\n",
       "      <td>1.20043</td>\n",
       "      <td>1.20046</td>\n",
       "      <td>1.20048</td>\n",
       "    </tr>\n",
       "    <tr>\n",
       "      <th>TimestampYear</th>\n",
       "      <td>2018</td>\n",
       "      <td>2018</td>\n",
       "      <td>2018</td>\n",
       "      <td>2018</td>\n",
       "      <td>2018</td>\n",
       "    </tr>\n",
       "    <tr>\n",
       "      <th>TimestampMonth</th>\n",
       "      <td>1</td>\n",
       "      <td>1</td>\n",
       "      <td>1</td>\n",
       "      <td>1</td>\n",
       "      <td>1</td>\n",
       "    </tr>\n",
       "    <tr>\n",
       "      <th>TimestampWeek</th>\n",
       "      <td>1</td>\n",
       "      <td>1</td>\n",
       "      <td>1</td>\n",
       "      <td>1</td>\n",
       "      <td>1</td>\n",
       "    </tr>\n",
       "    <tr>\n",
       "      <th>TimestampDay</th>\n",
       "      <td>1</td>\n",
       "      <td>1</td>\n",
       "      <td>1</td>\n",
       "      <td>1</td>\n",
       "      <td>1</td>\n",
       "    </tr>\n",
       "    <tr>\n",
       "      <th>TimestampDayofweek</th>\n",
       "      <td>0</td>\n",
       "      <td>0</td>\n",
       "      <td>0</td>\n",
       "      <td>0</td>\n",
       "      <td>0</td>\n",
       "    </tr>\n",
       "    <tr>\n",
       "      <th>TimestampDayofyear</th>\n",
       "      <td>1</td>\n",
       "      <td>1</td>\n",
       "      <td>1</td>\n",
       "      <td>1</td>\n",
       "      <td>1</td>\n",
       "    </tr>\n",
       "    <tr>\n",
       "      <th>TimestampIs_month_end</th>\n",
       "      <td>False</td>\n",
       "      <td>False</td>\n",
       "      <td>False</td>\n",
       "      <td>False</td>\n",
       "      <td>False</td>\n",
       "    </tr>\n",
       "    <tr>\n",
       "      <th>TimestampIs_month_start</th>\n",
       "      <td>True</td>\n",
       "      <td>True</td>\n",
       "      <td>True</td>\n",
       "      <td>True</td>\n",
       "      <td>True</td>\n",
       "    </tr>\n",
       "    <tr>\n",
       "      <th>TimestampIs_quarter_end</th>\n",
       "      <td>False</td>\n",
       "      <td>False</td>\n",
       "      <td>False</td>\n",
       "      <td>False</td>\n",
       "      <td>False</td>\n",
       "    </tr>\n",
       "    <tr>\n",
       "      <th>TimestampIs_quarter_start</th>\n",
       "      <td>True</td>\n",
       "      <td>True</td>\n",
       "      <td>True</td>\n",
       "      <td>True</td>\n",
       "      <td>True</td>\n",
       "    </tr>\n",
       "    <tr>\n",
       "      <th>TimestampIs_year_end</th>\n",
       "      <td>False</td>\n",
       "      <td>False</td>\n",
       "      <td>False</td>\n",
       "      <td>False</td>\n",
       "      <td>False</td>\n",
       "    </tr>\n",
       "    <tr>\n",
       "      <th>TimestampIs_year_start</th>\n",
       "      <td>True</td>\n",
       "      <td>True</td>\n",
       "      <td>True</td>\n",
       "      <td>True</td>\n",
       "      <td>True</td>\n",
       "    </tr>\n",
       "    <tr>\n",
       "      <th>TimestampHour</th>\n",
       "      <td>17</td>\n",
       "      <td>17</td>\n",
       "      <td>17</td>\n",
       "      <td>17</td>\n",
       "      <td>17</td>\n",
       "    </tr>\n",
       "    <tr>\n",
       "      <th>TimestampMinute</th>\n",
       "      <td>0</td>\n",
       "      <td>1</td>\n",
       "      <td>2</td>\n",
       "      <td>3</td>\n",
       "      <td>4</td>\n",
       "    </tr>\n",
       "    <tr>\n",
       "      <th>TimestampSecond</th>\n",
       "      <td>0</td>\n",
       "      <td>0</td>\n",
       "      <td>0</td>\n",
       "      <td>0</td>\n",
       "      <td>0</td>\n",
       "    </tr>\n",
       "    <tr>\n",
       "      <th>TimestampElapsed</th>\n",
       "      <td>1514826000</td>\n",
       "      <td>1514826060</td>\n",
       "      <td>1514826120</td>\n",
       "      <td>1514826180</td>\n",
       "      <td>1514826240</td>\n",
       "    </tr>\n",
       "    <tr>\n",
       "      <th>Target</th>\n",
       "      <td>1.2003</td>\n",
       "      <td>1.20043</td>\n",
       "      <td>1.20046</td>\n",
       "      <td>1.20048</td>\n",
       "      <td>1.20048</td>\n",
       "    </tr>\n",
       "  </tbody>\n",
       "</table>\n",
       "</div>"
      ],
      "text/plain": [
       "                                             0                    1  \\\n",
       "Timestamp                  2018-01-01 17:00:00  2018-01-01 17:01:00   \n",
       "Open                                   1.20037              1.20083   \n",
       "High                                     1.201              1.20095   \n",
       "Low                                    1.20037              1.20017   \n",
       "Close                                    1.201               1.2003   \n",
       "TimestampYear                             2018                 2018   \n",
       "TimestampMonth                               1                    1   \n",
       "TimestampWeek                                1                    1   \n",
       "TimestampDay                                 1                    1   \n",
       "TimestampDayofweek                           0                    0   \n",
       "TimestampDayofyear                           1                    1   \n",
       "TimestampIs_month_end                    False                False   \n",
       "TimestampIs_month_start                   True                 True   \n",
       "TimestampIs_quarter_end                  False                False   \n",
       "TimestampIs_quarter_start                 True                 True   \n",
       "TimestampIs_year_end                     False                False   \n",
       "TimestampIs_year_start                    True                 True   \n",
       "TimestampHour                               17                   17   \n",
       "TimestampMinute                              0                    1   \n",
       "TimestampSecond                              0                    0   \n",
       "TimestampElapsed                    1514826000           1514826060   \n",
       "Target                                  1.2003              1.20043   \n",
       "\n",
       "                                             2                    3  \\\n",
       "Timestamp                  2018-01-01 17:02:00  2018-01-01 17:03:00   \n",
       "Open                                   1.20035              1.20041   \n",
       "High                                   1.20043               1.2005   \n",
       "Low                                    1.20035              1.20031   \n",
       "Close                                  1.20043              1.20046   \n",
       "TimestampYear                             2018                 2018   \n",
       "TimestampMonth                               1                    1   \n",
       "TimestampWeek                                1                    1   \n",
       "TimestampDay                                 1                    1   \n",
       "TimestampDayofweek                           0                    0   \n",
       "TimestampDayofyear                           1                    1   \n",
       "TimestampIs_month_end                    False                False   \n",
       "TimestampIs_month_start                   True                 True   \n",
       "TimestampIs_quarter_end                  False                False   \n",
       "TimestampIs_quarter_start                 True                 True   \n",
       "TimestampIs_year_end                     False                False   \n",
       "TimestampIs_year_start                    True                 True   \n",
       "TimestampHour                               17                   17   \n",
       "TimestampMinute                              2                    3   \n",
       "TimestampSecond                              0                    0   \n",
       "TimestampElapsed                    1514826120           1514826180   \n",
       "Target                                 1.20046              1.20048   \n",
       "\n",
       "                                             4  \n",
       "Timestamp                  2018-01-01 17:04:00  \n",
       "Open                                   1.20049  \n",
       "High                                   1.20049  \n",
       "Low                                    1.20046  \n",
       "Close                                  1.20048  \n",
       "TimestampYear                             2018  \n",
       "TimestampMonth                               1  \n",
       "TimestampWeek                                1  \n",
       "TimestampDay                                 1  \n",
       "TimestampDayofweek                           0  \n",
       "TimestampDayofyear                           1  \n",
       "TimestampIs_month_end                    False  \n",
       "TimestampIs_month_start                   True  \n",
       "TimestampIs_quarter_end                  False  \n",
       "TimestampIs_quarter_start                 True  \n",
       "TimestampIs_year_end                     False  \n",
       "TimestampIs_year_start                    True  \n",
       "TimestampHour                               17  \n",
       "TimestampMinute                              4  \n",
       "TimestampSecond                              0  \n",
       "TimestampElapsed                    1514826240  \n",
       "Target                                 1.20048  "
      ]
     },
     "execution_count": 4,
     "metadata": {},
     "output_type": "execute_result"
    }
   ],
   "source": [
    "train_df.head().T"
   ]
  },
  {
   "cell_type": "code",
   "execution_count": 5,
   "metadata": {},
   "outputs": [
    {
     "data": {
      "text/plain": [
       "372606"
      ]
     },
     "execution_count": 5,
     "metadata": {},
     "output_type": "execute_result"
    }
   ],
   "source": [
    "n = len(train_df); n"
   ]
  },
  {
   "cell_type": "markdown",
   "metadata": {},
   "source": [
    "### Experimenting with a sample"
   ]
  },
  {
   "cell_type": "code",
   "execution_count": 8,
   "metadata": {},
   "outputs": [],
   "source": [
    "idx = np.random.permutation(range(n))[:2000]\n",
    "idx.sort()\n",
    "small_train_df = train_df.iloc[idx[:1000]]\n",
    "small_test_df = train_df.iloc[idx[1000:]]\n",
    "small_cont_vars = ['Open', 'High','Low','Close','TimestampElapsed']\n",
    "small_cat_vars =  ['TimestampMonth', 'TimestampWeek', 'TimestampDay']\n",
    "small_train_df = small_train_df[small_cat_vars + small_cont_vars + ['Target']]\n",
    "small_test_df = small_test_df[small_cat_vars + small_cont_vars + ['Target']]"
   ]
  },
  {
   "cell_type": "code",
   "execution_count": 9,
   "metadata": {},
   "outputs": [
    {
     "data": {
      "text/html": [
       "<div>\n",
       "<style scoped>\n",
       "    .dataframe tbody tr th:only-of-type {\n",
       "        vertical-align: middle;\n",
       "    }\n",
       "\n",
       "    .dataframe tbody tr th {\n",
       "        vertical-align: top;\n",
       "    }\n",
       "\n",
       "    .dataframe thead th {\n",
       "        text-align: right;\n",
       "    }\n",
       "</style>\n",
       "<table border=\"1\" class=\"dataframe\">\n",
       "  <thead>\n",
       "    <tr style=\"text-align: right;\">\n",
       "      <th></th>\n",
       "      <th>TimestampMonth</th>\n",
       "      <th>TimestampWeek</th>\n",
       "      <th>TimestampDay</th>\n",
       "      <th>Open</th>\n",
       "      <th>High</th>\n",
       "      <th>Low</th>\n",
       "      <th>Close</th>\n",
       "      <th>Target</th>\n",
       "    </tr>\n",
       "  </thead>\n",
       "  <tbody>\n",
       "    <tr>\n",
       "      <th>96</th>\n",
       "      <td>1</td>\n",
       "      <td>1</td>\n",
       "      <td>1</td>\n",
       "      <td>1.20126</td>\n",
       "      <td>1.20126</td>\n",
       "      <td>1.20113</td>\n",
       "      <td>1.20114</td>\n",
       "      <td>1.20113</td>\n",
       "    </tr>\n",
       "    <tr>\n",
       "      <th>465</th>\n",
       "      <td>1</td>\n",
       "      <td>1</td>\n",
       "      <td>2</td>\n",
       "      <td>1.20214</td>\n",
       "      <td>1.20219</td>\n",
       "      <td>1.20214</td>\n",
       "      <td>1.20219</td>\n",
       "      <td>1.20214</td>\n",
       "    </tr>\n",
       "    <tr>\n",
       "      <th>531</th>\n",
       "      <td>1</td>\n",
       "      <td>1</td>\n",
       "      <td>2</td>\n",
       "      <td>1.20267</td>\n",
       "      <td>1.20267</td>\n",
       "      <td>1.20261</td>\n",
       "      <td>1.20264</td>\n",
       "      <td>1.20277</td>\n",
       "    </tr>\n",
       "    <tr>\n",
       "      <th>535</th>\n",
       "      <td>1</td>\n",
       "      <td>1</td>\n",
       "      <td>2</td>\n",
       "      <td>1.20293</td>\n",
       "      <td>1.20296</td>\n",
       "      <td>1.20293</td>\n",
       "      <td>1.20295</td>\n",
       "      <td>1.20284</td>\n",
       "    </tr>\n",
       "    <tr>\n",
       "      <th>549</th>\n",
       "      <td>1</td>\n",
       "      <td>1</td>\n",
       "      <td>2</td>\n",
       "      <td>1.20312</td>\n",
       "      <td>1.20312</td>\n",
       "      <td>1.20287</td>\n",
       "      <td>1.20288</td>\n",
       "      <td>1.20283</td>\n",
       "    </tr>\n",
       "  </tbody>\n",
       "</table>\n",
       "</div>"
      ],
      "text/plain": [
       "     TimestampMonth  TimestampWeek  TimestampDay     Open     High      Low  \\\n",
       "96                1              1             1  1.20126  1.20126  1.20113   \n",
       "465               1              1             2  1.20214  1.20219  1.20214   \n",
       "531               1              1             2  1.20267  1.20267  1.20261   \n",
       "535               1              1             2  1.20293  1.20296  1.20293   \n",
       "549               1              1             2  1.20312  1.20312  1.20287   \n",
       "\n",
       "       Close   Target  \n",
       "96   1.20114  1.20113  \n",
       "465  1.20219  1.20214  \n",
       "531  1.20264  1.20277  \n",
       "535  1.20295  1.20284  \n",
       "549  1.20288  1.20283  "
      ]
     },
     "execution_count": 9,
     "metadata": {},
     "output_type": "execute_result"
    }
   ],
   "source": [
    "small_train_df.head()"
   ]
  },
  {
   "cell_type": "code",
   "execution_count": 10,
   "metadata": {},
   "outputs": [
    {
     "data": {
      "text/html": [
       "<div>\n",
       "<style scoped>\n",
       "    .dataframe tbody tr th:only-of-type {\n",
       "        vertical-align: middle;\n",
       "    }\n",
       "\n",
       "    .dataframe tbody tr th {\n",
       "        vertical-align: top;\n",
       "    }\n",
       "\n",
       "    .dataframe thead th {\n",
       "        text-align: right;\n",
       "    }\n",
       "</style>\n",
       "<table border=\"1\" class=\"dataframe\">\n",
       "  <thead>\n",
       "    <tr style=\"text-align: right;\">\n",
       "      <th></th>\n",
       "      <th>TimestampMonth</th>\n",
       "      <th>TimestampWeek</th>\n",
       "      <th>TimestampDay</th>\n",
       "      <th>Open</th>\n",
       "      <th>High</th>\n",
       "      <th>Low</th>\n",
       "      <th>Close</th>\n",
       "      <th>Target</th>\n",
       "    </tr>\n",
       "  </thead>\n",
       "  <tbody>\n",
       "    <tr>\n",
       "      <th>181662</th>\n",
       "      <td>6</td>\n",
       "      <td>26</td>\n",
       "      <td>27</td>\n",
       "      <td>1.16338</td>\n",
       "      <td>1.16345</td>\n",
       "      <td>1.16329</td>\n",
       "      <td>1.16345</td>\n",
       "      <td>1.16329</td>\n",
       "    </tr>\n",
       "    <tr>\n",
       "      <th>182525</th>\n",
       "      <td>6</td>\n",
       "      <td>26</td>\n",
       "      <td>27</td>\n",
       "      <td>1.15614</td>\n",
       "      <td>1.15614</td>\n",
       "      <td>1.15602</td>\n",
       "      <td>1.15609</td>\n",
       "      <td>1.15614</td>\n",
       "    </tr>\n",
       "    <tr>\n",
       "      <th>182702</th>\n",
       "      <td>6</td>\n",
       "      <td>26</td>\n",
       "      <td>27</td>\n",
       "      <td>1.15670</td>\n",
       "      <td>1.15670</td>\n",
       "      <td>1.15662</td>\n",
       "      <td>1.15663</td>\n",
       "      <td>1.15669</td>\n",
       "    </tr>\n",
       "    <tr>\n",
       "      <th>183187</th>\n",
       "      <td>6</td>\n",
       "      <td>26</td>\n",
       "      <td>28</td>\n",
       "      <td>1.15907</td>\n",
       "      <td>1.15915</td>\n",
       "      <td>1.15886</td>\n",
       "      <td>1.15914</td>\n",
       "      <td>1.15906</td>\n",
       "    </tr>\n",
       "    <tr>\n",
       "      <th>183441</th>\n",
       "      <td>6</td>\n",
       "      <td>26</td>\n",
       "      <td>28</td>\n",
       "      <td>1.15773</td>\n",
       "      <td>1.15810</td>\n",
       "      <td>1.15763</td>\n",
       "      <td>1.15802</td>\n",
       "      <td>1.15752</td>\n",
       "    </tr>\n",
       "  </tbody>\n",
       "</table>\n",
       "</div>"
      ],
      "text/plain": [
       "        TimestampMonth  TimestampWeek  TimestampDay     Open     High  \\\n",
       "181662               6             26            27  1.16338  1.16345   \n",
       "182525               6             26            27  1.15614  1.15614   \n",
       "182702               6             26            27  1.15670  1.15670   \n",
       "183187               6             26            28  1.15907  1.15915   \n",
       "183441               6             26            28  1.15773  1.15810   \n",
       "\n",
       "            Low    Close   Target  \n",
       "181662  1.16329  1.16345  1.16329  \n",
       "182525  1.15602  1.15609  1.15614  \n",
       "182702  1.15662  1.15663  1.15669  \n",
       "183187  1.15886  1.15914  1.15906  \n",
       "183441  1.15763  1.15802  1.15752  "
      ]
     },
     "execution_count": 10,
     "metadata": {},
     "output_type": "execute_result"
    }
   ],
   "source": [
    "small_test_df.head()"
   ]
  },
  {
   "cell_type": "code",
   "execution_count": 11,
   "metadata": {},
   "outputs": [],
   "source": [
    "categorify = Categorify(small_cat_vars, small_cont_vars)\n",
    "categorify(small_train_df)\n",
    "categorify(small_test_df, test=True)"
   ]
  },
  {
   "cell_type": "code",
   "execution_count": 12,
   "metadata": {},
   "outputs": [
    {
     "data": {
      "text/html": [
       "<div>\n",
       "<style scoped>\n",
       "    .dataframe tbody tr th:only-of-type {\n",
       "        vertical-align: middle;\n",
       "    }\n",
       "\n",
       "    .dataframe tbody tr th {\n",
       "        vertical-align: top;\n",
       "    }\n",
       "\n",
       "    .dataframe thead th {\n",
       "        text-align: right;\n",
       "    }\n",
       "</style>\n",
       "<table border=\"1\" class=\"dataframe\">\n",
       "  <thead>\n",
       "    <tr style=\"text-align: right;\">\n",
       "      <th></th>\n",
       "      <th>TimestampMonth</th>\n",
       "      <th>TimestampWeek</th>\n",
       "      <th>TimestampDay</th>\n",
       "      <th>Open</th>\n",
       "      <th>High</th>\n",
       "      <th>Low</th>\n",
       "      <th>Close</th>\n",
       "      <th>Target</th>\n",
       "    </tr>\n",
       "  </thead>\n",
       "  <tbody>\n",
       "    <tr>\n",
       "      <th>181662</th>\n",
       "      <td>6</td>\n",
       "      <td>26</td>\n",
       "      <td>27</td>\n",
       "      <td>1.16338</td>\n",
       "      <td>1.16345</td>\n",
       "      <td>1.16329</td>\n",
       "      <td>1.16345</td>\n",
       "      <td>1.16329</td>\n",
       "    </tr>\n",
       "    <tr>\n",
       "      <th>182525</th>\n",
       "      <td>6</td>\n",
       "      <td>26</td>\n",
       "      <td>27</td>\n",
       "      <td>1.15614</td>\n",
       "      <td>1.15614</td>\n",
       "      <td>1.15602</td>\n",
       "      <td>1.15609</td>\n",
       "      <td>1.15614</td>\n",
       "    </tr>\n",
       "    <tr>\n",
       "      <th>182702</th>\n",
       "      <td>6</td>\n",
       "      <td>26</td>\n",
       "      <td>27</td>\n",
       "      <td>1.15670</td>\n",
       "      <td>1.15670</td>\n",
       "      <td>1.15662</td>\n",
       "      <td>1.15663</td>\n",
       "      <td>1.15669</td>\n",
       "    </tr>\n",
       "    <tr>\n",
       "      <th>183187</th>\n",
       "      <td>6</td>\n",
       "      <td>26</td>\n",
       "      <td>28</td>\n",
       "      <td>1.15907</td>\n",
       "      <td>1.15915</td>\n",
       "      <td>1.15886</td>\n",
       "      <td>1.15914</td>\n",
       "      <td>1.15906</td>\n",
       "    </tr>\n",
       "    <tr>\n",
       "      <th>183441</th>\n",
       "      <td>6</td>\n",
       "      <td>26</td>\n",
       "      <td>28</td>\n",
       "      <td>1.15773</td>\n",
       "      <td>1.15810</td>\n",
       "      <td>1.15763</td>\n",
       "      <td>1.15802</td>\n",
       "      <td>1.15752</td>\n",
       "    </tr>\n",
       "  </tbody>\n",
       "</table>\n",
       "</div>"
      ],
      "text/plain": [
       "       TimestampMonth TimestampWeek TimestampDay     Open     High      Low  \\\n",
       "181662              6            26           27  1.16338  1.16345  1.16329   \n",
       "182525              6            26           27  1.15614  1.15614  1.15602   \n",
       "182702              6            26           27  1.15670  1.15670  1.15662   \n",
       "183187              6            26           28  1.15907  1.15915  1.15886   \n",
       "183441              6            26           28  1.15773  1.15810  1.15763   \n",
       "\n",
       "          Close   Target  \n",
       "181662  1.16345  1.16329  \n",
       "182525  1.15609  1.15614  \n",
       "182702  1.15663  1.15669  \n",
       "183187  1.15914  1.15906  \n",
       "183441  1.15802  1.15752  "
      ]
     },
     "execution_count": 12,
     "metadata": {},
     "output_type": "execute_result"
    }
   ],
   "source": [
    "small_test_df.head()"
   ]
  },
  {
   "cell_type": "code",
   "execution_count": 13,
   "metadata": {},
   "outputs": [
    {
     "data": {
      "text/plain": [
       "Int64Index([1, 2, 3, 4, 5, 6], dtype='int64')"
      ]
     },
     "execution_count": 13,
     "metadata": {},
     "output_type": "execute_result"
    }
   ],
   "source": [
    "small_train_df.TimestampMonth.cat.categories"
   ]
  },
  {
   "cell_type": "code",
   "execution_count": 14,
   "metadata": {},
   "outputs": [],
   "source": [
    "#fill_missing = FillMissing(small_cat_vars, small_cont_vars,)\n",
    "#fill_missing(small_train_df)\n",
    "#fill_missing(small_test_df, test=True)"
   ]
  },
  {
   "cell_type": "markdown",
   "metadata": {},
   "source": [
    "### Preparing full data set"
   ]
  },
  {
   "cell_type": "code",
   "execution_count": 6,
   "metadata": {},
   "outputs": [],
   "source": [
    "train_df = pd.read_pickle(path/'train_clean')"
   ]
  },
  {
   "cell_type": "code",
   "execution_count": 7,
   "metadata": {},
   "outputs": [
    {
     "data": {
      "text/plain": [
       "372606"
      ]
     },
     "execution_count": 7,
     "metadata": {},
     "output_type": "execute_result"
    }
   ],
   "source": [
    "len(train_df)"
   ]
  },
  {
   "cell_type": "code",
   "execution_count": 8,
   "metadata": {},
   "outputs": [],
   "source": [
    "#train_df.drop(['Timestamp'],axis=1)"
   ]
  },
  {
   "cell_type": "code",
   "execution_count": 9,
   "metadata": {},
   "outputs": [],
   "source": [
    "procs=[FillMissing, Categorify, Normalize]"
   ]
  },
  {
   "cell_type": "code",
   "execution_count": 10,
   "metadata": {},
   "outputs": [],
   "source": [
    "cat_vars = [\"TimestampYear\",\"TimestampMonth\",\"TimestampWeek\",\"TimestampDay\",\"TimestampDayofweek\",\n",
    "            \"TimestampDayofyear\",\"TimestampIs_month_end\",\"TimestampIs_month_start\",\n",
    "            \"TimestampIs_quarter_end\",\"TimestampIs_quarter_start\",\"TimestampIs_year_end\",\n",
    "            \"TimestampIs_year_start\",\"TimestampHour\",\"TimestampMinute\",\"TimestampSecond\"]\n",
    "\n",
    "cont_vars = ['Open', 'High','Low','Close','TimestampElapsed']"
   ]
  },
  {
   "cell_type": "code",
   "execution_count": 13,
   "metadata": {},
   "outputs": [
    {
     "data": {
      "text/html": [
       "<div>\n",
       "<style scoped>\n",
       "    .dataframe tbody tr th:only-of-type {\n",
       "        vertical-align: middle;\n",
       "    }\n",
       "\n",
       "    .dataframe tbody tr th {\n",
       "        vertical-align: top;\n",
       "    }\n",
       "\n",
       "    .dataframe thead th {\n",
       "        text-align: right;\n",
       "    }\n",
       "</style>\n",
       "<table border=\"1\" class=\"dataframe\">\n",
       "  <thead>\n",
       "    <tr style=\"text-align: right;\">\n",
       "      <th></th>\n",
       "      <th>TimestampYear</th>\n",
       "      <th>TimestampMonth</th>\n",
       "      <th>TimestampWeek</th>\n",
       "      <th>TimestampDay</th>\n",
       "      <th>TimestampDayofweek</th>\n",
       "      <th>TimestampDayofyear</th>\n",
       "      <th>TimestampIs_month_end</th>\n",
       "      <th>TimestampIs_month_start</th>\n",
       "      <th>TimestampIs_quarter_end</th>\n",
       "      <th>TimestampIs_quarter_start</th>\n",
       "      <th>...</th>\n",
       "      <th>TimestampHour</th>\n",
       "      <th>TimestampMinute</th>\n",
       "      <th>TimestampSecond</th>\n",
       "      <th>Open</th>\n",
       "      <th>High</th>\n",
       "      <th>Low</th>\n",
       "      <th>Close</th>\n",
       "      <th>TimestampElapsed</th>\n",
       "      <th>Target</th>\n",
       "      <th>Timestamp</th>\n",
       "    </tr>\n",
       "  </thead>\n",
       "  <tbody>\n",
       "    <tr>\n",
       "      <th>0</th>\n",
       "      <td>2018</td>\n",
       "      <td>1</td>\n",
       "      <td>1</td>\n",
       "      <td>1</td>\n",
       "      <td>0</td>\n",
       "      <td>1</td>\n",
       "      <td>False</td>\n",
       "      <td>True</td>\n",
       "      <td>False</td>\n",
       "      <td>True</td>\n",
       "      <td>...</td>\n",
       "      <td>17</td>\n",
       "      <td>0</td>\n",
       "      <td>0</td>\n",
       "      <td>1.20037</td>\n",
       "      <td>1.20100</td>\n",
       "      <td>1.20037</td>\n",
       "      <td>1.20100</td>\n",
       "      <td>1514826000</td>\n",
       "      <td>1.20030</td>\n",
       "      <td>2018-01-01 17:00:00</td>\n",
       "    </tr>\n",
       "    <tr>\n",
       "      <th>1</th>\n",
       "      <td>2018</td>\n",
       "      <td>1</td>\n",
       "      <td>1</td>\n",
       "      <td>1</td>\n",
       "      <td>0</td>\n",
       "      <td>1</td>\n",
       "      <td>False</td>\n",
       "      <td>True</td>\n",
       "      <td>False</td>\n",
       "      <td>True</td>\n",
       "      <td>...</td>\n",
       "      <td>17</td>\n",
       "      <td>1</td>\n",
       "      <td>0</td>\n",
       "      <td>1.20083</td>\n",
       "      <td>1.20095</td>\n",
       "      <td>1.20017</td>\n",
       "      <td>1.20030</td>\n",
       "      <td>1514826060</td>\n",
       "      <td>1.20043</td>\n",
       "      <td>2018-01-01 17:01:00</td>\n",
       "    </tr>\n",
       "    <tr>\n",
       "      <th>2</th>\n",
       "      <td>2018</td>\n",
       "      <td>1</td>\n",
       "      <td>1</td>\n",
       "      <td>1</td>\n",
       "      <td>0</td>\n",
       "      <td>1</td>\n",
       "      <td>False</td>\n",
       "      <td>True</td>\n",
       "      <td>False</td>\n",
       "      <td>True</td>\n",
       "      <td>...</td>\n",
       "      <td>17</td>\n",
       "      <td>2</td>\n",
       "      <td>0</td>\n",
       "      <td>1.20035</td>\n",
       "      <td>1.20043</td>\n",
       "      <td>1.20035</td>\n",
       "      <td>1.20043</td>\n",
       "      <td>1514826120</td>\n",
       "      <td>1.20046</td>\n",
       "      <td>2018-01-01 17:02:00</td>\n",
       "    </tr>\n",
       "    <tr>\n",
       "      <th>3</th>\n",
       "      <td>2018</td>\n",
       "      <td>1</td>\n",
       "      <td>1</td>\n",
       "      <td>1</td>\n",
       "      <td>0</td>\n",
       "      <td>1</td>\n",
       "      <td>False</td>\n",
       "      <td>True</td>\n",
       "      <td>False</td>\n",
       "      <td>True</td>\n",
       "      <td>...</td>\n",
       "      <td>17</td>\n",
       "      <td>3</td>\n",
       "      <td>0</td>\n",
       "      <td>1.20041</td>\n",
       "      <td>1.20050</td>\n",
       "      <td>1.20031</td>\n",
       "      <td>1.20046</td>\n",
       "      <td>1514826180</td>\n",
       "      <td>1.20048</td>\n",
       "      <td>2018-01-01 17:03:00</td>\n",
       "    </tr>\n",
       "    <tr>\n",
       "      <th>4</th>\n",
       "      <td>2018</td>\n",
       "      <td>1</td>\n",
       "      <td>1</td>\n",
       "      <td>1</td>\n",
       "      <td>0</td>\n",
       "      <td>1</td>\n",
       "      <td>False</td>\n",
       "      <td>True</td>\n",
       "      <td>False</td>\n",
       "      <td>True</td>\n",
       "      <td>...</td>\n",
       "      <td>17</td>\n",
       "      <td>4</td>\n",
       "      <td>0</td>\n",
       "      <td>1.20049</td>\n",
       "      <td>1.20049</td>\n",
       "      <td>1.20046</td>\n",
       "      <td>1.20048</td>\n",
       "      <td>1514826240</td>\n",
       "      <td>1.20048</td>\n",
       "      <td>2018-01-01 17:04:00</td>\n",
       "    </tr>\n",
       "  </tbody>\n",
       "</table>\n",
       "<p>5 rows × 22 columns</p>\n",
       "</div>"
      ],
      "text/plain": [
       "   TimestampYear  TimestampMonth  TimestampWeek  TimestampDay  \\\n",
       "0           2018               1              1             1   \n",
       "1           2018               1              1             1   \n",
       "2           2018               1              1             1   \n",
       "3           2018               1              1             1   \n",
       "4           2018               1              1             1   \n",
       "\n",
       "   TimestampDayofweek  TimestampDayofyear  TimestampIs_month_end  \\\n",
       "0                   0                   1                  False   \n",
       "1                   0                   1                  False   \n",
       "2                   0                   1                  False   \n",
       "3                   0                   1                  False   \n",
       "4                   0                   1                  False   \n",
       "\n",
       "   TimestampIs_month_start  TimestampIs_quarter_end  \\\n",
       "0                     True                    False   \n",
       "1                     True                    False   \n",
       "2                     True                    False   \n",
       "3                     True                    False   \n",
       "4                     True                    False   \n",
       "\n",
       "   TimestampIs_quarter_start  ...  TimestampHour  TimestampMinute  \\\n",
       "0                       True  ...             17                0   \n",
       "1                       True  ...             17                1   \n",
       "2                       True  ...             17                2   \n",
       "3                       True  ...             17                3   \n",
       "4                       True  ...             17                4   \n",
       "\n",
       "   TimestampSecond     Open     High      Low    Close  TimestampElapsed  \\\n",
       "0                0  1.20037  1.20100  1.20037  1.20100        1514826000   \n",
       "1                0  1.20083  1.20095  1.20017  1.20030        1514826060   \n",
       "2                0  1.20035  1.20043  1.20035  1.20043        1514826120   \n",
       "3                0  1.20041  1.20050  1.20031  1.20046        1514826180   \n",
       "4                0  1.20049  1.20049  1.20046  1.20048        1514826240   \n",
       "\n",
       "    Target           Timestamp  \n",
       "0  1.20030 2018-01-01 17:00:00  \n",
       "1  1.20043 2018-01-01 17:01:00  \n",
       "2  1.20046 2018-01-01 17:02:00  \n",
       "3  1.20048 2018-01-01 17:03:00  \n",
       "4  1.20048 2018-01-01 17:04:00  \n",
       "\n",
       "[5 rows x 22 columns]"
      ]
     },
     "execution_count": 13,
     "metadata": {},
     "output_type": "execute_result"
    }
   ],
   "source": [
    "dep_var = 'Target'\n",
    "df = train_df[cat_vars + cont_vars + [dep_var,'Timestamp']].copy()\n",
    "df.head()"
   ]
  },
  {
   "cell_type": "code",
   "execution_count": 29,
   "metadata": {},
   "outputs": [
    {
     "data": {
      "text/plain": [
       "335345"
      ]
     },
     "execution_count": 29,
     "metadata": {},
     "output_type": "execute_result"
    }
   ],
   "source": [
    "cut = int(len(train_df)*0.9)\n",
    "cut"
   ]
  },
  {
   "cell_type": "code",
   "execution_count": 30,
   "metadata": {},
   "outputs": [],
   "source": [
    "valid_idx = range(cut,len(train_df))"
   ]
  },
  {
   "cell_type": "code",
   "execution_count": 31,
   "metadata": {},
   "outputs": [
    {
     "data": {
      "text/plain": [
       "range(335345, 372606)"
      ]
     },
     "execution_count": 31,
     "metadata": {},
     "output_type": "execute_result"
    }
   ],
   "source": [
    "valid_idx"
   ]
  },
  {
   "cell_type": "code",
   "execution_count": 32,
   "metadata": {},
   "outputs": [
    {
     "data": {
      "text/plain": [
       "0    1.20030\n",
       "1    1.20043\n",
       "2    1.20046\n",
       "3    1.20048\n",
       "4    1.20048\n",
       "Name: Target, dtype: float64"
      ]
     },
     "execution_count": 32,
     "metadata": {},
     "output_type": "execute_result"
    }
   ],
   "source": [
    "df[dep_var].head()"
   ]
  },
  {
   "cell_type": "code",
   "execution_count": 33,
   "metadata": {},
   "outputs": [],
   "source": [
    "data = (TabularList.from_df(df, path=path, cat_names=cat_vars, cont_names=cont_vars, procs=procs,)\n",
    "                .split_by_idx(valid_idx)\n",
    "                .label_from_df(cols=dep_var, label_cls=FloatList, log=True)\n",
    "                .databunch())"
   ]
  },
  {
   "cell_type": "code",
   "execution_count": 26,
   "metadata": {},
   "outputs": [],
   "source": [
    "doc(DataBunch)"
   ]
  },
  {
   "cell_type": "code",
   "execution_count": 57,
   "metadata": {},
   "outputs": [],
   "source": [
    "valid_dl=data.dl(ds_type=DatasetType.Valid)"
   ]
  },
  {
   "cell_type": "code",
   "execution_count": null,
   "metadata": {},
   "outputs": [],
   "source": [
    "doc(FloatList)"
   ]
  },
  {
   "cell_type": "markdown",
   "metadata": {},
   "source": [
    "## Model"
   ]
  },
  {
   "cell_type": "code",
   "execution_count": 35,
   "metadata": {},
   "outputs": [],
   "source": [
    "max_log_y = np.log(np.max(train_df['Target'])*1.2)\n",
    "y_range = torch.tensor([0, max_log_y], device=defaults.device)"
   ]
  },
  {
   "cell_type": "code",
   "execution_count": 36,
   "metadata": {},
   "outputs": [],
   "source": [
    "learn = tabular_learner(data, layers=[1000,500], ps=[0.001,0.01], emb_drop=0.04, \n",
    "                        y_range=y_range, metrics=exp_rmspe)"
   ]
  },
  {
   "cell_type": "code",
   "execution_count": 37,
   "metadata": {},
   "outputs": [
    {
     "data": {
      "text/plain": [
       "TabularModel(\n",
       "  (embeds): ModuleList(\n",
       "    (0): Embedding(2, 2)\n",
       "    (1): Embedding(12, 6)\n",
       "    (2): Embedding(48, 14)\n",
       "    (3): Embedding(32, 11)\n",
       "    (4): Embedding(7, 5)\n",
       "    (5): Embedding(282, 38)\n",
       "    (6): Embedding(3, 3)\n",
       "    (7): Embedding(3, 3)\n",
       "    (8): Embedding(3, 3)\n",
       "    (9): Embedding(3, 3)\n",
       "    (10): Embedding(2, 2)\n",
       "    (11): Embedding(3, 3)\n",
       "    (12): Embedding(25, 10)\n",
       "    (13): Embedding(61, 16)\n",
       "    (14): Embedding(2, 2)\n",
       "  )\n",
       "  (emb_drop): Dropout(p=0.04)\n",
       "  (bn_cont): BatchNorm1d(5, eps=1e-05, momentum=0.1, affine=True, track_running_stats=True)\n",
       "  (layers): Sequential(\n",
       "    (0): Linear(in_features=126, out_features=1000, bias=True)\n",
       "    (1): ReLU(inplace)\n",
       "    (2): BatchNorm1d(1000, eps=1e-05, momentum=0.1, affine=True, track_running_stats=True)\n",
       "    (3): Dropout(p=0.001)\n",
       "    (4): Linear(in_features=1000, out_features=500, bias=True)\n",
       "    (5): ReLU(inplace)\n",
       "    (6): BatchNorm1d(500, eps=1e-05, momentum=0.1, affine=True, track_running_stats=True)\n",
       "    (7): Dropout(p=0.01)\n",
       "    (8): Linear(in_features=500, out_features=1, bias=True)\n",
       "  )\n",
       ")"
      ]
     },
     "execution_count": 37,
     "metadata": {},
     "output_type": "execute_result"
    }
   ],
   "source": [
    "learn.model"
   ]
  },
  {
   "cell_type": "code",
   "execution_count": 38,
   "metadata": {},
   "outputs": [
    {
     "data": {
      "text/plain": [
       "5"
      ]
     },
     "execution_count": 38,
     "metadata": {},
     "output_type": "execute_result"
    }
   ],
   "source": [
    "len(data.train_ds.cont_names)"
   ]
  },
  {
   "cell_type": "code",
   "execution_count": 45,
   "metadata": {},
   "outputs": [
    {
     "data": {
      "text/html": [],
      "text/plain": [
       "<IPython.core.display.HTML object>"
      ]
     },
     "metadata": {},
     "output_type": "display_data"
    },
    {
     "name": "stdout",
     "output_type": "stream",
     "text": [
      "LR Finder is complete, type {learner_name}.recorder.plot() to see the graph.\n"
     ]
    }
   ],
   "source": [
    "learn.lr_find()"
   ]
  },
  {
   "cell_type": "code",
   "execution_count": 46,
   "metadata": {},
   "outputs": [
    {
     "data": {
      "image/png": "[encoded data removed]",
      "text/plain": [
       "<Figure size 432x288 with 1 Axes>"
      ]
     },
     "metadata": {
      "needs_background": "light"
     },
     "output_type": "display_data"
    }
   ],
   "source": [
    "learn.recorder.plot()"
   ]
  },
  {
   "cell_type": "code",
   "execution_count": 41,
   "metadata": {},
   "outputs": [
    {
     "data": {
      "text/html": [
       "<table border=\"1\" class=\"dataframe\">\n",
       "  <thead>\n",
       "    <tr style=\"text-align: left;\">\n",
       "      <th>epoch</th>\n",
       "      <th>train_loss</th>\n",
       "      <th>valid_loss</th>\n",
       "      <th>exp_rmspe</th>\n",
       "      <th>time</th>\n",
       "    </tr>\n",
       "  </thead>\n",
       "  <tbody>\n",
       "    <tr>\n",
       "      <td>0</td>\n",
       "      <td>0.000629</td>\n",
       "      <td>0.000667</td>\n",
       "      <td>0.026030</td>\n",
       "      <td>02:01</td>\n",
       "    </tr>\n",
       "    <tr>\n",
       "      <td>1</td>\n",
       "      <td>0.000031</td>\n",
       "      <td>0.000019</td>\n",
       "      <td>0.004107</td>\n",
       "      <td>02:02</td>\n",
       "    </tr>\n",
       "    <tr>\n",
       "      <td>2</td>\n",
       "      <td>0.000028</td>\n",
       "      <td>0.000002</td>\n",
       "      <td>0.001449</td>\n",
       "      <td>02:02</td>\n",
       "    </tr>\n",
       "    <tr>\n",
       "      <td>3</td>\n",
       "      <td>0.000029</td>\n",
       "      <td>0.000004</td>\n",
       "      <td>0.001894</td>\n",
       "      <td>02:02</td>\n",
       "    </tr>\n",
       "    <tr>\n",
       "      <td>4</td>\n",
       "      <td>0.000024</td>\n",
       "      <td>0.000003</td>\n",
       "      <td>0.001602</td>\n",
       "      <td>02:01</td>\n",
       "    </tr>\n",
       "  </tbody>\n",
       "</table>"
      ],
      "text/plain": [
       "<IPython.core.display.HTML object>"
      ]
     },
     "metadata": {},
     "output_type": "display_data"
    }
   ],
   "source": [
    "learn.fit_one_cycle(5, 5e-6, wd=0.2)"
   ]
  },
  {
   "cell_type": "code",
   "execution_count": 42,
   "metadata": {},
   "outputs": [],
   "source": [
    "learn.save('1')"
   ]
  },
  {
   "cell_type": "code",
   "execution_count": 44,
   "metadata": {},
   "outputs": [
    {
     "data": {
      "image/png": "[encoded data removed]",
      "text/plain": [
       "<Figure size 432x288 with 1 Axes>"
      ]
     },
     "metadata": {
      "needs_background": "light"
     },
     "output_type": "display_data"
    }
   ],
   "source": [
    "learn.recorder.plot_losses()"
   ]
  },
  {
   "cell_type": "code",
   "execution_count": null,
   "metadata": {},
   "outputs": [],
   "source": [
    "learn.load('1');"
   ]
  },
  {
   "cell_type": "code",
   "execution_count": null,
   "metadata": {},
   "outputs": [
    {
     "data": {
      "text/html": [
       "Total time: 11:32 <p><table style='width:300px; margin-bottom:10px'>\n",
       "  <tr>\n",
       "    <th>epoch</th>\n",
       "    <th>train_loss</th>\n",
       "    <th>valid_loss</th>\n",
       "    <th>exp_rmspe</th>\n",
       "  </tr>\n",
       "  <tr>\n",
       "    <th>1</th>\n",
       "    <th>0.012223</th>\n",
       "    <th>0.014312</th>\n",
       "    <th>0.116988</th>\n",
       "  </tr>\n",
       "  <tr>\n",
       "    <th>2</th>\n",
       "    <th>0.012001</th>\n",
       "    <th>0.017789</th>\n",
       "    <th>0.117619</th>\n",
       "  </tr>\n",
       "  <tr>\n",
       "    <th>3</th>\n",
       "    <th>0.011402</th>\n",
       "    <th>0.035596</th>\n",
       "    <th>0.114396</th>\n",
       "  </tr>\n",
       "  <tr>\n",
       "    <th>4</th>\n",
       "    <th>0.010067</th>\n",
       "    <th>0.015125</th>\n",
       "    <th>0.113652</th>\n",
       "  </tr>\n",
       "  <tr>\n",
       "    <th>5</th>\n",
       "    <th>0.009148</th>\n",
       "    <th>0.031326</th>\n",
       "    <th>0.116344</th>\n",
       "  </tr>\n",
       "</table>\n"
      ],
      "text/plain": [
       "<IPython.core.display.HTML object>"
      ]
     },
     "metadata": {},
     "output_type": "display_data"
    }
   ],
   "source": [
    "learn.fit_one_cycle(5, 3e-4)"
   ]
  },
  {
   "cell_type": "code",
   "execution_count": null,
   "metadata": {},
   "outputs": [
    {
     "data": {
      "text/html": [
       "Total time: 11:31 <p><table style='width:300px; margin-bottom:10px'>\n",
       "  <tr>\n",
       "    <th>epoch</th>\n",
       "    <th>train_loss</th>\n",
       "    <th>valid_loss</th>\n",
       "    <th>exp_rmspe</th>\n",
       "  </tr>\n",
       "  <tr>\n",
       "    <th>1</th>\n",
       "    <th>0.011840</th>\n",
       "    <th>0.013236</th>\n",
       "    <th>0.110483</th>\n",
       "  </tr>\n",
       "  <tr>\n",
       "    <th>2</th>\n",
       "    <th>0.010765</th>\n",
       "    <th>0.057664</th>\n",
       "    <th>0.129586</th>\n",
       "  </tr>\n",
       "  <tr>\n",
       "    <th>3</th>\n",
       "    <th>0.010101</th>\n",
       "    <th>0.042744</th>\n",
       "    <th>0.111584</th>\n",
       "  </tr>\n",
       "  <tr>\n",
       "    <th>4</th>\n",
       "    <th>0.008820</th>\n",
       "    <th>0.116893</th>\n",
       "    <th>0.135458</th>\n",
       "  </tr>\n",
       "  <tr>\n",
       "    <th>5</th>\n",
       "    <th>0.009144</th>\n",
       "    <th>0.017969</th>\n",
       "    <th>0.126323</th>\n",
       "  </tr>\n",
       "</table>\n"
      ],
      "text/plain": [
       "<IPython.core.display.HTML object>"
      ]
     },
     "metadata": {},
     "output_type": "display_data"
    }
   ],
   "source": [
    "learn.fit_one_cycle(5, 3e-4)"
   ]
  },
  {
   "cell_type": "markdown",
   "metadata": {},
   "source": [
    "(10th place in the competition was 0.108)"
   ]
  },
  {
   "cell_type": "code",
   "execution_count": 48,
   "metadata": {},
   "outputs": [],
   "source": [
    "valid_preds=learn.get_preds(DatasetType.Valid)\n",
    "\n",
    "valid_df=np.exp(valid_preds[0].data).numpy().T[0]\n"
   ]
  },
  {
   "cell_type": "code",
   "execution_count": 69,
   "metadata": {},
   "outputs": [
    {
     "data": {
      "text/plain": [
       "FloatList (10 items)\n",
       "0.12885922,0.12888563,0.12911415,0.12921086,0.12906146\n",
       "Path: C:\\Users\\marcel.barros\\.fastai\\data\\EURUSD"
      ]
     },
     "execution_count": 69,
     "metadata": {},
     "output_type": "execute_result"
    }
   ],
   "source": [
    "valid_dl.dataset.y[:10]"
   ]
  },
  {
   "cell_type": "code",
   "execution_count": 71,
   "metadata": {},
   "outputs": [
    {
     "data": {
      "text/plain": [
       "tensor([[0.1311],\n",
       "        [0.1306],\n",
       "        [0.1307],\n",
       "        [0.1310],\n",
       "        [0.1310],\n",
       "        [0.1310],\n",
       "        [0.1315],\n",
       "        [0.1311],\n",
       "        [0.1308],\n",
       "        [0.1306]])"
      ]
     },
     "execution_count": 71,
     "metadata": {},
     "output_type": "execute_result"
    }
   ],
   "source": [
    "valid_preds[0][:10]"
   ]
  },
  {
   "cell_type": "code",
   "execution_count": null,
   "metadata": {},
   "outputs": [],
   "source": []
  },
  {
   "cell_type": "code",
   "execution_count": null,
   "metadata": {},
   "outputs": [],
   "source": [
    "valid_df[[\"Id\",\"Target\"]].to_csv(\"rossmann_submission.csv\",index=False)"
   ]
  }
 ],
 "metadata": {
  "kernelspec": {
   "display_name": "Python 3",
   "language": "python",
   "name": "python3"
  },
  "language_info": {
   "codemirror_mode": {
    "name": "ipython",
    "version": 3
   },
   "file_extension": ".py",
   "mimetype": "text/x-python",
   "name": "python",
   "nbconvert_exporter": "python",
   "pygments_lexer": "ipython3",
   "version": "3.7.4"
  }
 },
 "nbformat": 4,
 "nbformat_minor": 2
}
